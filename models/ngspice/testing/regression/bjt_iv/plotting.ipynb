{
 "cells": [
  {
   "cell_type": "code",
   "execution_count": null,
   "id": "dc364796",
   "metadata": {
    "scrolled": false
   },
   "outputs": [],
   "source": [
    "import os\n",
    "import pandas as pd\n",
    "import glob\n",
    "from matplotlib import pyplot as plt\n",
    "\n",
    "%matplotlib notebook\n",
    "os.system(f\"python3 models_regression.py \")\n",
    "\n",
    "\n",
    "def draw(measured, simulated):\n",
    "    \"\"\"draw func draw measured data vs simulated data\n",
    "\n",
    "    Args:\n",
    "        measured (list[str]): measured files paths\n",
    "        simulated (list[str]): simulated files paths\n",
    "    \"\"\"    \n",
    "    print(\"measured is blue\")\n",
    "    print(\"simulated is red\")\n",
    "\n",
    "    for i in range(len(measured)):\n",
    "        space = measured[i].rfind(\"/\")\n",
    "        read_dev_name = measured[i][space + 1:]\n",
    "        df = pd.read_csv(measured[i])\n",
    "        ax = df.plot(x=df.columns[1], y=df.columns[2:], color=\"b\")\n",
    "        df = pd.read_csv(simulated[i])\n",
    "        df.plot(ax=ax, x=df.columns[1], y=df.columns[2:], color=\"r\")\n",
    "        plt.title(read_dev_name)\n",
    "        plt.show()\n",
    "\n",
    "\n",
    "device = [\"npn\",\"pnp\"]\n",
    "# 1 for pnp\n",
    "# 0 for npn\n",
    "dev=0\n",
    "measured = glob.glob(f\"bjt_iv_regr/{device[dev]}/ib_measured/*.csv\")\n",
    "simulated = glob.glob(f\"bjt_iv_regr/{device[dev]}/ib_simulated/*.csv\")\n",
    "measured.sort()\n",
    "simulated.sort()\n",
    "\n",
    "draw(measured, simulated)\n"
   ]
  },
  {
   "cell_type": "code",
   "execution_count": null,
   "id": "69f06f65",
   "metadata": {},
   "outputs": [],
   "source": []
  }
 ],
 "metadata": {
  "kernelspec": {
   "display_name": "Python 3 (ipykernel)",
   "language": "python",
   "name": "python3"
  },
  "language_info": {
   "codemirror_mode": {
    "name": "ipython",
    "version": 3
   },
   "file_extension": ".py",
   "mimetype": "text/x-python",
   "name": "python",
   "nbconvert_exporter": "python",
   "pygments_lexer": "ipython3",
   "version": "3.9.13"
  }
 },
 "nbformat": 4,
 "nbformat_minor": 5
}
