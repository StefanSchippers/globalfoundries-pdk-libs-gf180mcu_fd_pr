{
 "cells": [
  {
   "cell_type": "code",
   "execution_count": null,
   "id": "dc364796",
   "metadata": {
    "scrolled": false
   },
   "outputs": [],
   "source": [
    "import os\n",
    "import pandas as pd\n",
    "import glob\n",
    "from matplotlib import pyplot as plt\n",
    "\n",
    "%matplotlib notebook\n",
    "os.system(f\"python3 models_regression.py \")\n",
    "\n",
    "\n",
    "def draw(measured: list[str]) -> None:\n",
    "    \"\"\"draw func draw measured data vs simulated data\n",
    "\n",
    "    Args:\n",
    "        measured (list[str]): measured files paths\n",
    "    \"\"\"\n",
    "\n",
    "    measured.sort()\n",
    "    for i in range(len(measured)):\n",
    "        space = measured[i].find(\"/\")\n",
    "        read_dev_name = measured[i][space + 1:]\n",
    "        df = pd.read_csv(measured[i])\n",
    "       # df.drop_duplicates(subset=df.columns[5], inplace=True)\n",
    "        df.plot(y=[df.columns[6], df.columns[9]])\n",
    "        plt.title(read_dev_name)\n",
    "        plt.show()\n",
    "\n",
    "\n",
    "measured = glob.glob(f\"res_regr/*/*.csv\")\n",
    "# caling the draw func\n",
    "draw(measured)\n"
   ]
  },
  {
   "cell_type": "code",
   "execution_count": null,
   "id": "33993153",
   "metadata": {},
   "outputs": [],
   "source": []
  }
 ],
 "metadata": {
  "kernelspec": {
   "display_name": "Python 3 (ipykernel)",
   "language": "python",
   "name": "python3"
  },
  "language_info": {
   "codemirror_mode": {
    "name": "ipython",
    "version": 3
   },
   "file_extension": ".py",
   "mimetype": "text/x-python",
   "name": "python",
   "nbconvert_exporter": "python",
   "pygments_lexer": "ipython3",
   "version": "3.9.13"
  }
 },
 "nbformat": 4,
 "nbformat_minor": 5
}
