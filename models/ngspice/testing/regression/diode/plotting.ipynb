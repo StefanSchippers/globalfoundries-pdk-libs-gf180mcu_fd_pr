{
 "cells": [
  {
   "cell_type": "code",
   "execution_count": null,
   "id": "dc364796",
   "metadata": {
    "scrolled": false
   },
   "outputs": [],
   "source": [
    "import os\n",
    "import pandas as pd\n",
    "import glob\n",
    "from matplotlib import pyplot as plt\n",
    "\n",
    "%matplotlib notebook\n",
    "os.system(f\"python3 models_regression.py \")\n",
    "\n",
    "\n",
    "def draw(measured: list[str], simulated: list[str]) -> None:\n",
    "    \"\"\"draw func draw measured data vs simulated data\n",
    "\n",
    "    Args:\n",
    "        measured (list[str]): measured files paths\n",
    "        simulated (list[str]): simulated files paths\n",
    "    \"\"\"\n",
    "    print(\"measured is blue\")\n",
    "    print(\"simulated is red\")\n",
    "    measured.sort()\n",
    "    simulated.sort()\n",
    "    for i in range(len(measured)):\n",
    "        space = measured[i].rfind(\"/\")\n",
    "        read_dev_name = measured[i][space + 1:]\n",
    "        df = pd.read_csv(measured[i])\n",
    "        ax = df.plot(x=df.columns[1], y=df.columns[2:], color=\"b\")\n",
    "        df = pd.read_csv(simulated[i])\n",
    "        df.plot(ax=ax, x=df.columns[1], y=df.columns[2:], color=\"r\")\n",
    "        plt.title(read_dev_name)\n",
    "        plt.show()\n",
    "\n",
    "\n",
    "device = [\n",
    "    \"diode_regr/diode_dw2ps\",\n",
    "    \"diode_regr/diode_nd2ps_03v3\",\n",
    "    \"diode_regr/diode_nd2ps_06v0\",\n",
    "    \"diode_regr/diode_nw2ps_03v3\",\n",
    "    \"diode_regr/diode_nw2ps_06v0\",\n",
    "    \"diode_regr/diode_pd2nw_03v3\",\n",
    "    \"diode_regr/diode_pd2nw_06v0\",\n",
    "    \"diode_regr/diode_pw2dw\",\n",
    "    \"diode_regr/sc_diode\",\n",
    "]\n",
    "\n",
    "iv_cv_m = [\"measured_iv\", \"measured_cv\"]\n",
    "iv_cv_s = [\"simulated_iv\", \"simulated_cv\"]\n",
    "# 0 for diode_dw2ps\n",
    "# 1 for diode_nd2ps_03v3\n",
    "# 2 for diode_nd2ps_06v0\n",
    "# 3 for diode_nw2ps_03v3\n",
    "# 4 for diode_nw2ps_06v0\n",
    "# 5 for diode_pd2nw_03v3\n",
    "# 6 for diode_pd2nw_06v0\n",
    "# 7 for diode_pw2dw\n",
    "dev = 0\n",
    "\n",
    "# 1 for cv 0 for iv\n",
    "iv_cv = 1\n",
    "measured = glob.glob(f\"{device[dev]}/{iv_cv_m[iv_cv]}/*.csv\")\n",
    "simulated = glob.glob(f\"{device[dev]}/{iv_cv_s[iv_cv]}/*.csv\")\n",
    "# caling the draw func\n",
    "draw(measured, simulated)\n"
   ]
  },
  {
   "cell_type": "code",
   "execution_count": null,
   "id": "ddeaa9c0",
   "metadata": {},
   "outputs": [],
   "source": []
  }
 ],
 "metadata": {
  "kernelspec": {
   "display_name": "Python 3 (ipykernel)",
   "language": "python",
   "name": "python3"
  },
  "language_info": {
   "codemirror_mode": {
    "name": "ipython",
    "version": 3
   },
   "file_extension": ".py",
   "mimetype": "text/x-python",
   "name": "python",
   "nbconvert_exporter": "python",
   "pygments_lexer": "ipython3",
   "version": "3.9.13"
  }
 },
 "nbformat": 4,
 "nbformat_minor": 5
}
