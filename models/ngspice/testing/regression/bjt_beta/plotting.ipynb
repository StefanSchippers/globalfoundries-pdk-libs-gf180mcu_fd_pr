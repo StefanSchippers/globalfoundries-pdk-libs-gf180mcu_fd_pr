{
 "cells": [
  {
   "cell_type": "code",
   "execution_count": null,
   "id": "dc364796",
   "metadata": {
    "scrolled": false
   },
   "outputs": [],
   "source": [
    "import os\n",
    "import pandas as pd\n",
    "import glob\n",
    "from matplotlib import pyplot as plt\n",
    "from matplotlib.ticker import EngFormatter\n",
    "\n",
    "\n",
    "def draw(measured, simulated):\n",
    "    \"\"\"draw func draw measured data vs simulated data\n",
    "\n",
    "    Args:\n",
    "        measured (list[str]): measured files paths\n",
    "        simulated (list[str]): simulated files paths\n",
    "    \"\"\"    \n",
    "    print(\"measured is blue\")\n",
    "    print(\"simulated is red\")\n",
    "    measured.sort()\n",
    "    simulated.sort()\n",
    "    for i in range(len(measured)):\n",
    "        space = measured[i].rfind(\"/\")\n",
    "        read_dev_name = measured[i][space + 1:]\n",
    "        df = pd.read_csv(measured[i])\n",
    "        ax = df.plot(x=df.columns[1], y=df.columns[2:], color=\"b\", figsize=(15,12))\n",
    "        volt_formatter = EngFormatter(unit='V')\n",
    "        amp_formatter = EngFormatter(unit='A')\n",
    "        ax.xaxis.set_major_formatter(volt_formatter)\n",
    "        ax.yaxis.set_major_formatter(amp_formatter)\n",
    "        df = pd.read_csv(simulated[i])\n",
    "        df.plot(ax=ax, x=df.columns[1], y=df.columns[2:], color=\"r\")\n",
    "        plt.title(read_dev_name)\n",
    "        plt.grid()\n",
    "        plt.xlabel('Collector Voltage')\n",
    "        plt.ylabel('Collector Current')\n",
    "        plt.show()\n",
    "\n",
    "\n",
    "device = [\"npn\",\"pnp\"]\n",
    "# 1 for \"pnp\"\n",
    "#  for \"npn\"\n",
    "dev=0\n",
    "\n",
    "measured_ib = glob.glob(f\"bjt_beta_regr/{device[dev]}/ib_measured/*.csv\")\n",
    "simulated_ib = glob.glob(f\"bjt_beta_regr/{device[dev]}/ib_simulated/*.csv\")\n",
    "\n",
    "measured_ic = glob.glob(f\"bjt_beta_regr/{device[dev]}/ic_measured/*.csv\")\n",
    "simulated_ic = glob.glob(f\"bjt_beta_regr/{device[dev]}/ic_simulated/*.csv\")\n",
    "\n",
    "draw(measured_ic, simulated_ic)\n",
    "# draw(measured_ib,simulated_ib,device)\n"
   ]
  },
  {
   "cell_type": "code",
   "execution_count": null,
   "id": "33eb12ca",
   "metadata": {},
   "outputs": [],
   "source": []
  },
  {
   "cell_type": "code",
   "execution_count": null,
   "id": "968dffd8",
   "metadata": {},
   "outputs": [],
   "source": []
  }
 ],
 "metadata": {
  "kernelspec": {
   "display_name": "Python 3 (ipykernel)",
   "language": "python",
   "name": "python3"
  },
  "language_info": {
   "codemirror_mode": {
    "name": "ipython",
    "version": 3
   },
   "file_extension": ".py",
   "mimetype": "text/x-python",
   "name": "python",
   "nbconvert_exporter": "python",
   "pygments_lexer": "ipython3",
   "version": "3.9.13"
  }
 },
 "nbformat": 4,
 "nbformat_minor": 5
}
