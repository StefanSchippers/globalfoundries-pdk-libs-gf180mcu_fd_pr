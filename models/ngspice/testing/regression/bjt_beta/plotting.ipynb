{
 "cells": [
  {
   "cell_type": "code",
   "execution_count": 2,
   "id": "dc364796",
   "metadata": {
    "scrolled": false
   },
   "outputs": [
    {
     "name": "stdout",
     "output_type": "stream",
     "text": [
      "measured is blue\n",
      "simulated is red\n"
     ]
    },
    {
     "name": "stderr",
     "output_type": "stream",
     "text": [
      "python3: can't open file '/home/mgomaa/klayout/old_versions/globalfoundries-pdk-libs-gf180mcu_fd_pr/models/ngspice/testing/regression/bjt_beta/model_reg.py': [Errno 2] No such file or directory\n"
     ]
    }
   ],
   "source": [
    "import os\n",
    "import pandas as pd\n",
    "import glob\n",
    "from matplotlib import pyplot as plt\n",
    "\n",
    "%matplotlib notebook\n",
    "os.system(f\"python3 models_regression.py \")\n",
    "\n",
    "\n",
    "def draw(measured, simulated):\n",
    "    \"\"\"draw func draw measured data vs simulated data\n",
    "\n",
    "    Args:\n",
    "        measured (list[str]): measured files paths\n",
    "        simulated (list[str]): simulated files paths\n",
    "    \"\"\"    \n",
    "    print(\"measured is blue\")\n",
    "    print(\"simulated is red\")\n",
    "    measured.sort()\n",
    "    simulated.sort()\n",
    "    for i in range(len(measured)):\n",
    "        space = measured[i].rfind(\"/\")\n",
    "        read_dev_name = measured[i][space + 1:]\n",
    "        df = pd.read_csv(measured[i])\n",
    "        ax = df.plot(x=df.columns[0], y=df.columns[1:], color=\"b\")\n",
    "        df = pd.read_csv(simulated[i])\n",
    "        df.plot(ax=ax, x=df.columns[0], y=df.columns[1:], color=\"r\")\n",
    "        plt.title(read_dev_name)\n",
    "        plt.show()\n",
    "\n",
    "\n",
    "device = [\"npn\",\"pnp\"]\n",
    "# 1 for \"pnp\"\n",
    "#  for \"npn\"\n",
    "dev=0\n",
    "\n",
    "measured_ib = glob.glob(f\"{device[dev]}/measured_Ib/*.csv\")\n",
    "simulated_ib = glob.glob(f\"{device[dev]}/simulated_Ib/*.csv\")\n",
    "\n",
    "measured_ic = glob.glob(f\"{device[dev]}/measured_Ic/*.csv\")\n",
    "simulated_ic = glob.glob(f\"{device[dev]}/simulated_Ic/*.csv\")\n",
    "\n",
    "\n",
    "draw(measured_ic, simulated_ic)\n",
    "# draw(measured_ib,simulated_ib,device)\n"
   ]
  },
  {
   "cell_type": "code",
   "execution_count": null,
   "id": "33eb12ca",
   "metadata": {},
   "outputs": [],
   "source": []
  }
 ],
 "metadata": {
  "kernelspec": {
   "display_name": "Python 3 (ipykernel)",
   "language": "python",
   "name": "python3"
  },
  "language_info": {
   "codemirror_mode": {
    "name": "ipython",
    "version": 3
   },
   "file_extension": ".py",
   "mimetype": "text/x-python",
   "name": "python",
   "nbconvert_exporter": "python",
   "pygments_lexer": "ipython3",
   "version": "3.9.13"
  }
 },
 "nbformat": 4,
 "nbformat_minor": 5
}
