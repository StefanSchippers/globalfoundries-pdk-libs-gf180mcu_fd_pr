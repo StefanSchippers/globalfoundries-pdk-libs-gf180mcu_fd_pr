{
 "cells": [
  {
   "cell_type": "code",
   "execution_count": null,
   "id": "dc364796",
   "metadata": {
    "scrolled": false
   },
   "outputs": [],
   "source": [
    "import os\n",
    "import pandas as pd\n",
    "import glob\n",
    "from matplotlib import pyplot as plt\n",
    "from matplotlib.ticker import EngFormatter\n",
    "\n",
    "\n",
    "def draw(measured,sim_path,cap):\n",
    "    \"\"\"draw func draw measured data vs simulated data\n",
    "\n",
    "    Args:\n",
    "        measured (list[str]): measured files paths\n",
    "        simulated (list[str]): simulated files paths\n",
    "    \"\"\"    \n",
    "    print(\"measured is blue\")\n",
    "    print(\"simulated is red\")\n",
    "    df1 = pd.read_csv(measured)\n",
    "    ROWS=int(len(df1)/4)\n",
    "    for i in range(int(len(df1)/ROWS)):\n",
    "        df=pd.DataFrame()    \n",
    "        space = sim_path[i].rfind(\"/\")\n",
    "        read_dev_name = sim_path[i][space + 1:]\n",
    "        n_col=int((len(df1.columns ) -2 )/3)\n",
    "        df[0]=df1[df1.columns[0]][i*ROWS:(i+1)*ROWS]\n",
    "        df[df1.columns[1:n_col+1]]=df1[df1.columns[1:n_col+1]][i*ROWS:(i+1)*ROWS]\n",
    "        ax = df.plot(x=df.columns[0], y=df.columns[1:n_col+1], color=\"r\", figsize=(15,12))\n",
    "        volt_formatter = EngFormatter(unit='V')\n",
    "        amp_formatter = EngFormatter(unit='F')\n",
    "        ax.xaxis.set_major_formatter(volt_formatter)\n",
    "        ax.yaxis.set_major_formatter(amp_formatter)\n",
    "        df[0]=df1[df1.columns[0]][i*ROWS:(i+1)*ROWS]\n",
    "        df[df1.columns[n_col+1:2*n_col+1]]=df1[df1.columns[n_col+1:2*n_col+1]][i*ROWS:(i+1)*ROWS]\n",
    "        df.plot(ax=ax, x=df.columns[0], y=df.columns[n_col+1:2*n_col+1], color=\"b\")\n",
    "        plt.grid()\n",
    "        plt.xlabel('Vds')\n",
    "        plt.ylabel(f'Cg{cap}')\n",
    "        plt.title(read_dev_name)        \n",
    "    plt.show()\n",
    "\n",
    "device =  [\n",
    "        \"nfet_03v3\",\n",
    "        \"pfet_03v3\",\n",
    "        \"nfet_06v0\",\n",
    "        \"pfet_06v0\",\n",
    "        \"nfet_06v0_nvt\"\n",
    "    ]\n",
    "\n",
    "cap=[\"c\",\"d\",\"s\"]\n",
    "dev=0\n",
    "i=1\n",
    "measured = (f\"mos_cv_regr/{device[dev]}/error_analysis_Cg{cap[i]}.csv\")\n",
    "sim_path = glob.glob(f\"mos_cv_regr/{device[dev]}/simulated_Cg{cap[i]}/*.csv\")\n",
    "draw(measured,sim_path,cap[i])\n"
   ]
  }
 ],
 "metadata": {
  "kernelspec": {
   "display_name": "Python 3 (ipykernel)",
   "language": "python",
   "name": "python3"
  },
  "language_info": {
   "codemirror_mode": {
    "name": "ipython",
    "version": 3
   },
   "file_extension": ".py",
   "mimetype": "text/x-python",
   "name": "python",
   "nbconvert_exporter": "python",
   "pygments_lexer": "ipython3",
   "version": "3.9.13"
  }
 },
 "nbformat": 4,
 "nbformat_minor": 5
}
