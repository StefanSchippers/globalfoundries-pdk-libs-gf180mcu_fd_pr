{
 "cells": [
  {
   "cell_type": "code",
   "execution_count": null,
   "id": "dc364796",
   "metadata": {
    "scrolled": false
   },
   "outputs": [],
   "source": [
    "import os\n",
    "import pandas as pd\n",
    "import glob\n",
    "from matplotlib import pyplot as plt\n",
    "from matplotlib.ticker import EngFormatter\n",
    "\n",
    "\n",
    "def draw(measured: list[str]) -> None:\n",
    "    \"\"\"draw func draw measured data vs simulated data\n",
    "\n",
    "    Args:\n",
    "        measured (list[str]): measured files paths\n",
    "    \"\"\"\n",
    "\n",
    "    measured.sort()\n",
    "    for i in range(len(measured)):\n",
    "        space = measured[i].find(\"/\")\n",
    "        read_dev_name1 = measured[i][space + 1:]  \n",
    "        space = read_dev_name1.find(\"/\")\n",
    "        read_dev_name = read_dev_name1[:space]\n",
    "        df = pd.read_csv(measured[i])\n",
    "        df.drop_duplicates(subset=df.columns[5], inplace=True)\n",
    "        ax=df.plot(y=[df.columns[5], df.columns[5]], figsize=(15,12))\n",
    "        amp_formatter = EngFormatter(unit='F')\n",
    "        ax.yaxis.set_major_formatter(amp_formatter)\n",
    "\n",
    "        plt.title(read_dev_name)\n",
    "        plt.grid()\n",
    "        plt.ylabel('Cv')\n",
    "        plt.xlabel('points')\n",
    "    plt.show()\n",
    "\n",
    "measured = glob.glob(f\"mimcap_regr/*/*.csv\")\n",
    "# caling the draw func\n",
    "draw(measured)\n"
   ]
  },
  {
   "cell_type": "code",
   "execution_count": null,
   "id": "f9a5a111",
   "metadata": {},
   "outputs": [],
   "source": []
  }
 ],
 "metadata": {
  "kernelspec": {
   "display_name": "Python 3 (ipykernel)",
   "language": "python",
   "name": "python3"
  },
  "language_info": {
   "codemirror_mode": {
    "name": "ipython",
    "version": 3
   },
   "file_extension": ".py",
   "mimetype": "text/x-python",
   "name": "python",
   "nbconvert_exporter": "python",
   "pygments_lexer": "ipython3",
   "version": "3.9.13"
  }
 },
 "nbformat": 4,
 "nbformat_minor": 5
}
