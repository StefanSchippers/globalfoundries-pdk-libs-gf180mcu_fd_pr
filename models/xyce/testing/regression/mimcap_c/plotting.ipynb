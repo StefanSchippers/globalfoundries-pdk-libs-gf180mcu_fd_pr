{
 "cells": [
  {
   "cell_type": "code",
   "execution_count": null,
   "id": "dc364796",
   "metadata": {
    "scrolled": false
   },
   "outputs": [],
   "source": [
    "import os\n",
    "import pandas as pd\n",
    "import glob\n",
    "from matplotlib import pyplot as plt\n",
    "from matplotlib.ticker import EngFormatter\n",
    "\n",
    "\n",
    "def draw(measured: list[str] ,simulated: list[str]) -> None:\n",
    "    \"\"\"draw func draw measured data vs simulated data\n",
    "\n",
    "    Args:\n",
    "        measured (list[str]): measured files paths\n",
    "    \"\"\"\n",
    "\n",
    "    measured.sort()\n",
    "    simulated.sort()\n",
    "    for i in range(len(measured)):\n",
    "        space = measured[i].rfind(\"/\")\n",
    "        read_dev_name = measured[i][space + 1:]\n",
    "        df = pd.read_csv(measured[i])\n",
    "        ax = df.plot(x=df.columns[0], y=df.columns[1], color=\"b\", figsize=(15,12))\n",
    "        df1 = pd.read_csv(simulated[i])\n",
    "        df1.plot(ax=ax, x=df.columns[0], y=df1.columns[1], color=\"r\")\n",
    "        Cap_formatter = EngFormatter(unit='F')\n",
    "        Volt_formatter = EngFormatter(unit='V')\n",
    "        ax.yaxis.set_major_formatter(Cap_formatter)\n",
    "        ax.xaxis.set_major_formatter(Volt_formatter)\n",
    "        plt.title(read_dev_name)\n",
    "        plt.grid()\n",
    "        plt.ylabel('Cv')\n",
    "        plt.xlabel('Volt')\n",
    "    plt.show()\n",
    "\n",
    "measured = glob.glob(f\"mimcap_c/*/measured_cv/*.csv\")\n",
    "simulated = glob.glob(f\"mimcap_c/*/simulated_cv/*.csv\")\n",
    "\n",
    "draw(measured, simulated)# caling the draw func\n"
   ]
  }
 ],
 "metadata": {
  "kernelspec": {
   "display_name": "Python 3 (ipykernel)",
   "language": "python",
   "name": "python3"
  },
  "language_info": {
   "codemirror_mode": {
    "name": "ipython",
    "version": 3
   },
   "file_extension": ".py",
   "mimetype": "text/x-python",
   "name": "python",
   "nbconvert_exporter": "python",
   "pygments_lexer": "ipython3",
   "version": "3.9.13"
  }
 },
 "nbformat": 4,
 "nbformat_minor": 5
}
