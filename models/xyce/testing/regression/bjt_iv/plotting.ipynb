{
 "cells": [
  {
   "cell_type": "code",
   "execution_count": null,
   "id": "dc364796",
   "metadata": {
    "scrolled": false
   },
   "outputs": [],
   "source": [
    "import os\n",
    "import pandas as pd\n",
    "import glob\n",
    "from matplotlib import pyplot as plt\n",
    "from matplotlib.ticker import EngFormatter\n",
    "ROWS=61\n",
    "\n",
    "\n",
    "def draw(measured):\n",
    "    \"\"\"draw func draw measured data vs simulated data\n",
    "\n",
    "    Args:\n",
    "        measured (list[str]): error analysis file path\n",
    "    \"\"\"    \n",
    "    print(\"measured is blue\")\n",
    "    print(\"simulated is red\")\n",
    "    df1 = pd.read_csv(measured)\n",
    "    for i in range(int(len(df1)/ROWS)):\n",
    "        df=pd.DataFrame()    \n",
    "        read_dev_name = df1[\"device\"].iloc[i*ROWS+1] + \"_temp\" +str(df1[\"temp\"].iloc[i*ROWS+1]) \n",
    "        df1 = pd.read_csv(measured)\n",
    "        df[0]=df1[df1.columns[0]][i*ROWS:(i+1)*ROWS]\n",
    "        df[df1.columns[1:6]]=df1[df1.columns[1:6]][i*ROWS:(i+1)*ROWS]\n",
    "        ax = df.plot(x=df.columns[0], y=df.columns[1:6], color=\"r\", figsize=(15,12))\n",
    "        volt_formatter = EngFormatter(unit='V')\n",
    "        amp_formatter = EngFormatter(unit='A')\n",
    "        ax.xaxis.set_major_formatter(volt_formatter)\n",
    "        ax.yaxis.set_major_formatter(amp_formatter)\n",
    "        df[0]=df1[df1.columns[0]][i*ROWS:(i+1)*ROWS]\n",
    "        df[df1.columns[8:14]]=df1[df1.columns[8:14]][i*ROWS:(i+1)*ROWS]\n",
    "        df.plot(ax=ax, x=df.columns[0], y=df.columns[8:14], color=\"b\")\n",
    "        plt.title(read_dev_name)\n",
    "        plt.grid()\n",
    "        plt.xlabel('Collector Voltage')\n",
    "        plt.ylabel('Collector Current')\n",
    "    plt.show()\n",
    "\n",
    "device = [\"npn\",\"pnp\"]\n",
    "# 1 for pnp\n",
    "# 0 for npn\n",
    "dev=0\n",
    "error = (f\"bjt_iv_reg/{device[dev]}/error_analysis.csv\")\n",
    "\n",
    "\n",
    "draw(error)\n"
   ]
  },
  {
   "cell_type": "code",
   "execution_count": null,
   "id": "f44cc09e",
   "metadata": {},
   "outputs": [],
   "source": []
  }
 ],
 "metadata": {
  "kernelspec": {
   "display_name": "Python 3 (ipykernel)",
   "language": "python",
   "name": "python3"
  },
  "language_info": {
   "codemirror_mode": {
    "name": "ipython",
    "version": 3
   },
   "file_extension": ".py",
   "mimetype": "text/x-python",
   "name": "python",
   "nbconvert_exporter": "python",
   "pygments_lexer": "ipython3",
   "version": "3.9.13"
  }
 },
 "nbformat": 4,
 "nbformat_minor": 5
}
