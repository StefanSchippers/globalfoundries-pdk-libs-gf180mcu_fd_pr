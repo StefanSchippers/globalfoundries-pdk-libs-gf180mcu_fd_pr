{
 "cells": [
  {
   "cell_type": "code",
   "execution_count": null,
   "id": "dc364796",
   "metadata": {
    "scrolled": false
   },
   "outputs": [],
   "source": [
    "import os\n",
    "import pandas as pd\n",
    "import glob\n",
    "from matplotlib import pyplot as plt\n",
    "from matplotlib.ticker import EngFormatter\n",
    "ROWS=67\n",
    "\n",
    "\n",
    "def draw(measured,sim_path):\n",
    "    \"\"\"draw func draw measured data vs simulated data\n",
    "\n",
    "    Args:\n",
    "        measured (list[str]): measured files paths\n",
    "        simulated (list[str]): simulated files paths\n",
    "    \"\"\"    \n",
    "    print(\"measured is blue\")\n",
    "    print(\"simulated is red\")\n",
    "    df1 = pd.read_csv(measured)\n",
    "    for i in range(int(len(df1)/ROWS)):\n",
    "        df=pd.DataFrame()    \n",
    "        space = sim_path[i].rfind(\"/\")\n",
    "        read_dev_name = sim_path[i][space + 1:]\n",
    "        df1 = pd.read_csv(measured)\n",
    "        df[0]=df1[df1.columns[0]][i*ROWS:(i+1)*ROWS]\n",
    "        df[df1.columns[1:6]]=df1[df1.columns[1:6]][i*ROWS:(i+1)*ROWS]\n",
    "        ax = df.plot(x=df.columns[0], y=df.columns[1:6], color=\"r\", figsize=(15,12))\n",
    "        volt_formatter = EngFormatter(unit='V')\n",
    "        amp_formatter = EngFormatter(unit='A')\n",
    "        ax.xaxis.set_major_formatter(volt_formatter)\n",
    "        ax.yaxis.set_major_formatter(amp_formatter)\n",
    "        df[0]=df1[df1.columns[0]][i*ROWS:(i+1)*ROWS]\n",
    "        df[df1.columns[7:13]]=df1[df1.columns[7:13]][i*ROWS:(i+1)*ROWS]\n",
    "        df.plot(ax=ax, x=df.columns[0], y=df.columns[7:13], color=\"b\")\n",
    "        plt.grid()\n",
    "        plt.xlabel('Vds')\n",
    "        plt.ylabel('Drain Current')\n",
    "        plt.title(read_dev_name)        \n",
    "    plt.show()\n",
    "\n",
    "device =  [\n",
    "        \"nfet_03v3\",\n",
    "        \"pfet_03v3\",\n",
    "        \"nfet_06v0\",\n",
    "        \"pfet_06v0\",\n",
    "        \"nfet_06v0_nvt\",\n",
    "        \"nfet_03v3_dss\",\n",
    "        \"pfet_03v3_dss\",\n",
    "        \"nfet_06v0_dss\",\n",
    "        \"pfet_06v0_dss\"\n",
    "    ]\n",
    "\n",
    "dev=0\n",
    "measured = (f\"mos_iv_reg/{device[dev]}/error_analysis_Id.csv\")\n",
    "sim_path = glob.glob(f\"mos_iv_reg/{device[dev]}/{device[dev]}_netlists_Id/*.csv\")\n",
    "draw(measured,sim_path)\n"
   ]
  },
  {
   "cell_type": "code",
   "execution_count": null,
   "id": "1ae5cace",
   "metadata": {},
   "outputs": [],
   "source": []
  },
  {
   "cell_type": "code",
   "execution_count": null,
   "id": "813cff3e",
   "metadata": {},
   "outputs": [],
   "source": []
  }
 ],
 "metadata": {
  "kernelspec": {
   "display_name": "Python 3 (ipykernel)",
   "language": "python",
   "name": "python3"
  },
  "language_info": {
   "codemirror_mode": {
    "name": "ipython",
    "version": 3
   },
   "file_extension": ".py",
   "mimetype": "text/x-python",
   "name": "python",
   "nbconvert_exporter": "python",
   "pygments_lexer": "ipython3",
   "version": "3.9.13"
  }
 },
 "nbformat": 4,
 "nbformat_minor": 5
}
